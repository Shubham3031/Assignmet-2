{
 "cells": [
  {
   "cell_type": "code",
   "execution_count": 13,
   "id": "44222d3b-66f7-486b-a680-6c4d0c6481c7",
   "metadata": {},
   "outputs": [
    {
     "name": "stdin",
     "output_type": "stream",
     "text": [
      "Enter the percentage 75\n"
     ]
    },
    {
     "name": "stdout",
     "output_type": "stream",
     "text": [
      "C\n"
     ]
    }
   ],
   "source": [
    "# 1.Ans.\n",
    "marks = int(input(\"Enter the percentage\"))\n",
    "if marks > 90:\n",
    "    print(\"A\")\n",
    "elif marks > 80 and marks <= 90 :\n",
    "    print(\"B\")\n",
    "elif marks >=60 and marks <= 80 :\n",
    "    print(\"C\")\n",
    "else :\n",
    "    print(\"D\")"
   ]
  },
  {
   "cell_type": "code",
   "execution_count": 12,
   "id": "29e20be4-75f2-4be0-88dc-b981bcb09d91",
   "metadata": {},
   "outputs": [
    {
     "name": "stdin",
     "output_type": "stream",
     "text": [
      "Enter the Cost Price 60000\n"
     ]
    },
    {
     "name": "stdout",
     "output_type": "stream",
     "text": [
      "You have to give 10% Tax\n"
     ]
    }
   ],
   "source": [
    "# 2.Ans.\n",
    "CostPrice = int(input(\"Enter the Cost Price\"))\n",
    "if CostPrice > 100000 :\n",
    "    print(\"You have to give 15% Tax\")\n",
    "elif CostPrice > 50000 and CostPrice <=100000 :\n",
    "    print(\"You have to give 10% Tax\")\n",
    "else :\n",
    "    print (\"You have to give 5% Tax\")"
   ]
  },
  {
   "cell_type": "code",
   "execution_count": 11,
   "id": "6de75e8d-b52b-4e50-8ccd-2ab7338c01b0",
   "metadata": {},
   "outputs": [
    {
     "name": "stdin",
     "output_type": "stream",
     "text": [
      "Enter the City Name Agra\n"
     ]
    },
    {
     "name": "stdout",
     "output_type": "stream",
     "text": [
      "Taj Mahal\n"
     ]
    }
   ],
   "source": [
    "# 3.Ans\n",
    "City = str(input(\"Enter the City Name\"))\n",
    "if City == \"Delhi\":\n",
    "    print(\"Red Fort\")\n",
    "elif City == \"Agra\":\n",
    "    print(\"Taj Mahal\") \n",
    "elif City == \"Jaipur\":\n",
    "    print(\"Jal Mahal\")\n",
    "else :\n",
    "    print(\"Monuments\")"
   ]
  },
  {
   "cell_type": "code",
   "execution_count": 14,
   "id": "550f3688-f6ef-4c81-a4fc-a64cc1487e2b",
   "metadata": {},
   "outputs": [
    {
     "name": "stdout",
     "output_type": "stream",
     "text": [
      "1\n"
     ]
    }
   ],
   "source": [
    "# 4.Ans\n",
    "def divide_by_3(num):\n",
    "    count = 0\n",
    "    while num > 10:\n",
    "        num /= 3\n",
    "        count += 1\n",
    "    return count\n",
    "\n",
    "print(divide_by_3(30))\n",
    "\n",
    "\n"
   ]
  },
  {
   "cell_type": "code",
   "execution_count": null,
   "id": "a2d92c61-7e0c-45a8-a7b6-dd2accf73cd5",
   "metadata": {},
   "outputs": [],
   "source": [
    "# 5.Ans.\n",
    "In Python, a while loop is used when you want to repeatedly execute\n",
    "a block of code as long as a certain condition is met.\n",
    " The basic structure of a while loop is \n",
    "    while condition :\n",
    "        #Code that to be executed\n",
    "The condition is checked at the start of each iteration of the loop. \n",
    "If it is true, the code inside the loop is executed. \n",
    "After the code inside the loop is executed, the condition \n",
    "is checked again, and the process repeats until the condition is false.\n",
    "  \n",
    "    Example of while loop:- Sum of the numbers from 1 to 10.\n",
    "       \n",
    "        sum = 0\n",
    "        counter = 1\n",
    "        \n",
    "        while counter <=10:\n",
    "            sum = sum + counter\n",
    "            counter+=1\n",
    "        print(\"Sum of the number\",sum)\n",
    "            \n",
    "            \n"
   ]
  },
  {
   "cell_type": "code",
   "execution_count": 10,
   "id": "c902a8a1-d58e-4960-aedb-536e49c0d0a7",
   "metadata": {},
   "outputs": [
    {
     "name": "stdin",
     "output_type": "stream",
     "text": [
      "Enter the number 5\n"
     ]
    },
    {
     "name": "stdout",
     "output_type": "stream",
     "text": [
      "* \n",
      "* * \n",
      "* * * \n",
      "* * * * \n",
      "* * * * * \n"
     ]
    }
   ],
   "source": [
    "# 6.Ans. (a)  \n",
    "n = int(input(\"Enter the number\"))\n",
    "\n",
    "i=1;j=0\n",
    "while(i<=n):\n",
    "\twhile(j<=i-1):\n",
    "\t\tprint(\"* \",end=\"\")\n",
    "\t\tj+=1\n",
    "\tprint(\"\\r\")\n",
    "\tj=0;i+=1\n",
    "\n"
   ]
  },
  {
   "cell_type": "code",
   "execution_count": 9,
   "id": "6f7468b4-f3e2-4f51-bdaa-fbe9b16ff6f8",
   "metadata": {},
   "outputs": [
    {
     "name": "stdin",
     "output_type": "stream",
     "text": [
      "Enter the number 5\n"
     ]
    },
    {
     "name": "stdout",
     "output_type": "stream",
     "text": [
      "     \n",
      "    *\n",
      "   **\n",
      "  ***\n",
      " ****\n",
      "*****\n"
     ]
    }
   ],
   "source": [
    "# 6.Ans.(b)\n",
    "n = int(input(\"Enter the number\"))\n",
    "i = 0\n",
    "while i <=n:\n",
    "    print(\" \" * (n - i) +\"*\" * i)\n",
    "    i+=1"
   ]
  },
  {
   "cell_type": "code",
   "execution_count": 3,
   "id": "617d3389-3440-4363-af8b-70e34e02223b",
   "metadata": {},
   "outputs": [
    {
     "name": "stdin",
     "output_type": "stream",
     "text": [
      "Enter the number 5\n"
     ]
    },
    {
     "name": "stdout",
     "output_type": "stream",
     "text": [
      "* * * * * \n",
      "* * * * \n",
      "* * * \n",
      "* * \n",
      "* \n"
     ]
    }
   ],
   "source": [
    "# 6.Ans.(c)\n",
    "n = int(input('Enter the number'))\n",
    " \n",
    "i = 1\n",
    "while i <= n :\n",
    "    j = n\n",
    "    while j >= i:\n",
    "        print(\"*\", end = \" \")\n",
    "        j -= 1\n",
    "    print()\n",
    "    i += 1"
   ]
  },
  {
   "cell_type": "code",
   "execution_count": 6,
   "id": "7f621cbd-d613-4cf1-96e9-9795484c2f29",
   "metadata": {},
   "outputs": [
    {
     "name": "stdout",
     "output_type": "stream",
     "text": [
      "The reverse number are  10 9 8 7 6 5 4 3 2 1 0 "
     ]
    }
   ],
   "source": [
    " # 7.Ans.\n",
    "n = 10\n",
    "print(\"The reverse number are \",end = ' ')\n",
    "while n>=0:\n",
    "    print(n , end = ' ')\n",
    "    n-=1\n",
    " \n",
    "    \n",
    "    \n",
    "    \n",
    "    \n"
   ]
  },
  {
   "cell_type": "code",
   "execution_count": 8,
   "id": "39b8aff3-4933-4bc6-a092-d07e994743bd",
   "metadata": {},
   "outputs": [
    {
     "name": "stdout",
     "output_type": "stream",
     "text": [
      "The reverse number are  10 9 8 7 6 5 4 3 2 1 0 "
     ]
    }
   ],
   "source": [
    "#8.Ans.\n",
    " \n",
    "n = 10\n",
    "print(\"The reverse number are \",end = ' ')\n",
    "while n>=0:\n",
    "    print(n , end = ' ')\n",
    "    n-=1\n",
    " \n",
    "    \n",
    "    \n",
    "    \n",
    "    \n",
    "\n"
   ]
  }
 ],
 "metadata": {
  "kernelspec": {
   "display_name": "Python 3 (ipykernel)",
   "language": "python",
   "name": "python3"
  },
  "language_info": {
   "codemirror_mode": {
    "name": "ipython",
    "version": 3
   },
   "file_extension": ".py",
   "mimetype": "text/x-python",
   "name": "python",
   "nbconvert_exporter": "python",
   "pygments_lexer": "ipython3",
   "version": "3.10.8"
  }
 },
 "nbformat": 4,
 "nbformat_minor": 5
}
